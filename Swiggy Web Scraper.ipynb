{
 "cells": [
  {
   "cell_type": "code",
   "execution_count": null,
   "id": "5f183358",
   "metadata": {},
   "outputs": [],
   "source": [
    "import requests\n",
    "import json\n",
    "import csv\n",
    "import time\n",
    "import pandas as pd\n",
    "import sys\n",
    "sys.stdout.encoding = 'utf-8'"
   ]
  },
  {
   "cell_type": "code",
   "execution_count": null,
   "id": "c052ada2",
   "metadata": {
    "scrolled": true
   },
   "outputs": [],
   "source": [
    "with open(\"bbsr_restaurant.csv\",\"a\",encoding=\"utf-8\", newline='') as fp:\n",
    "    wr = csv.writer(fp,dialect = 'excel')\n",
    "    headers = {\n",
    "        'authority': 'www.swiggy.com',\n",
    "        '__fetch_req__': 'true',\n",
    "        'accept': '*/*',\n",
    "        'accept-language': 'en-GB,en-US;q=0.9,en;q=0.8',\n",
    "        'content-type': 'application/json',\n",
    "        'cookie': '__SW=wHpXKJU-62XU3CeGxh9Ckz94tH2vLxfE; _device_id=dd3ba19d-3002-4e4a-9435-06ad4041482e; fontsLoaded=1; _gcl_au=1.1.1850857911.1665515916; WZRK_G=e71b5db121d1473d91a98c72412c7a30; _ga=GA1.2.1030167763.1665515918; _sid=37e077b1-24c8-41da-8ddf-bb24d786a32a; _gid=GA1.2.315989214.1666128106; _is_logged_in=1; _session_tid=f4f0b291900a4ec948287753717e8f2a23967297df09b8745cbabd72bde41d3b31b7e259a365cfa6e6f8a73a2b7f0c34e2e140f58aa0d94db819dd3f0dfa1de999d86ef3c364e57ea38cc7088c34dc7768a8ffca3e7b37fe24f878e68421941399f534cfc866d3652fac2c4137a4d030; userLocation=^{^%^22address^%^22:^%^22Bhubaneswar^%^2C^%^20Odisha^%^2C^%^20India^%^22^%^2C^%^22area^%^22:^%^22^%^22^%^2C^%^22deliveryLocation^%^22:^%^22^%^22^%^2C^%^22lat^%^22:20.2960587^%^2C^%^22lng^%^22:85.8245398^}; dadl=true; WZRK_S_W86-ZZK-WR6Z=^%^7B^%^22p^%^22^%^3A1^%^2C^%^22s^%^22^%^3A1666130717^%^2C^%^22t^%^22^%^3A1666130718^%^7D; _gat_0=1; _gat_UA-53591212-4=1',\n",
    "        'referer': 'https://www.swiggy.com/city/bhubaneswar?page=3',\n",
    "        'sec-ch-ua': '^\\\\^Chromium^\\\\^;v=^\\\\^106^\\\\^, ^\\\\^Google',\n",
    "        'sec-ch-ua-mobile': '?0',\n",
    "        'sec-ch-ua-platform': '^\\\\^Windows^\\\\^',\n",
    "        'sec-fetch-dest': 'empty',\n",
    "        'sec-fetch-mode': 'cors',\n",
    "        'sec-fetch-site': 'same-origin',\n",
    "        'user-agent': 'Mozilla/5.0 (Windows NT 10.0; Win64; x64) AppleWebKit/537.36 (KHTML, like Gecko) Chrome/106.0.0.0 Safari/537.36',\n",
    "    }\n",
    "\n",
    "    params = (\n",
    "        ('page', '0'),\n",
    "        ('ignoreServiceability', 'true'),\n",
    "        ('lat', '20.28982'),\n",
    "        ('lng', '85.84581'),\n",
    "        ('pageType', 'SEE_ALL'),\n",
    "        ('sortBy', 'RELEVANCE'),\n",
    "        ('page_type', 'DESKTOP_SEE_ALL_LISTING'),\n",
    "    )\n",
    "\n",
    "    response = requests.get('https://www.swiggy.com/dapi/restaurants/list/v5', headers=headers, params=params)\n",
    "    response = response.text\n",
    "    data = json.loads(response)\n",
    "    page_num = data['data']['pages']\n",
    "    \n",
    "    no = 0\n",
    "    for i in range(page_num):\n",
    "        headers = {\n",
    "            'authority': 'www.swiggy.com',\n",
    "            '__fetch_req__': 'true',\n",
    "            'accept': '*/*',\n",
    "            'accept-language': 'en-GB,en-US;q=0.9,en;q=0.8',\n",
    "            'content-type': 'application/json',\n",
    "            'cookie': '__SW=wHpXKJU-62XU3CeGxh9Ckz94tH2vLxfE; _device_id=dd3ba19d-3002-4e4a-9435-06ad4041482e; fontsLoaded=1; _gcl_au=1.1.1850857911.1665515916; WZRK_G=e71b5db121d1473d91a98c72412c7a30; _ga=GA1.2.1030167763.1665515918; _sid=37e077b1-24c8-41da-8ddf-bb24d786a32a; _gid=GA1.2.315989214.1666128106; _is_logged_in=1; _session_tid=f4f0b291900a4ec948287753717e8f2a23967297df09b8745cbabd72bde41d3b31b7e259a365cfa6e6f8a73a2b7f0c34e2e140f58aa0d94db819dd3f0dfa1de999d86ef3c364e57ea38cc7088c34dc7768a8ffca3e7b37fe24f878e68421941399f534cfc866d3652fac2c4137a4d030; userLocation=^{^%^22address^%^22:^%^22Bhubaneswar^%^2C^%^20Odisha^%^2C^%^20India^%^22^%^2C^%^22area^%^22:^%^22^%^22^%^2C^%^22deliveryLocation^%^22:^%^22^%^22^%^2C^%^22lat^%^22:20.2960587^%^2C^%^22lng^%^22:85.8245398^}; dadl=true; WZRK_S_W86-ZZK-WR6Z=^%^7B^%^22p^%^22^%^3A1^%^2C^%^22s^%^22^%^3A1666130717^%^2C^%^22t^%^22^%^3A1666130718^%^7D; _gat_0=1; _gat_UA-53591212-4=1',\n",
    "            'referer': 'https://www.swiggy.com/city/bhubaneswar?page=3',\n",
    "            'sec-ch-ua': '^\\\\^Chromium^\\\\^;v=^\\\\^106^\\\\^, ^\\\\^Google',\n",
    "            'sec-ch-ua-mobile': '?0',\n",
    "            'sec-ch-ua-platform': '^\\\\^Windows^\\\\^',\n",
    "            'sec-fetch-dest': 'empty',\n",
    "            'sec-fetch-mode': 'cors',\n",
    "            'sec-fetch-site': 'same-origin',\n",
    "            'user-agent': 'Mozilla/5.0 (Windows NT 10.0; Win64; x64) AppleWebKit/537.36 (KHTML, like Gecko) Chrome/106.0.0.0 Safari/537.36',\n",
    "        }\n",
    "\n",
    "        params = (\n",
    "            ('page', no),\n",
    "            ('ignoreServiceability', 'true'),\n",
    "            ('lat', '20.28982'),\n",
    "            ('lng', '85.84581'),\n",
    "            ('pageType', 'SEE_ALL'),\n",
    "            ('sortBy', 'RELEVANCE'),\n",
    "            ('page_type', 'DESKTOP_SEE_ALL_LISTING'),\n",
    "        )\n",
    "\n",
    "        response = requests.get('https://www.swiggy.com/dapi/restaurants/list/v5', headers=headers, params=params)\n",
    "        response = response.text\n",
    "        no = no + 1\n",
    "        data1= json.loads(response)\n",
    "        data1 = data1['data']['cards']\n",
    "        \n",
    "        for i in range(len(data1)):\n",
    "            name = data1[i]['data']['data']['name']\n",
    "            area= data1[i]['data']['data']['area']\n",
    "            costForTwo= data1[i]['data']['data']['costForTwo']\n",
    "            deliveryTime= data1[i]['data']['data']['deliveryTime']\n",
    "            veg = data1[i]['data']['data']['veg']\n",
    "            try:\n",
    "                Discount= data1[i]['data']['data']['aggregatedDiscountInfo']['header']\n",
    "            except:\n",
    "                pass\n",
    "            totalRatingsString= data1[i]['data']['data']['totalRatingsString']\n",
    "            avgRating= data1[i]['data']['data']['avgRating']\n",
    "            address= data1[i]['data']['data']['address']\n",
    "            address= address.replace(',',';')\n",
    "            locality= data1[i]['data']['data']['locality']\n",
    "            cuisines= data1[i]['data']['data']['cuisines'][0]\n",
    "            DeliveryCharge= data1[i]['data']['data']['feeDetails']['amount']\n",
    "            list_ = [name, address, area, locality, veg, cuisines, costForTwo,Discount, deliveryTime,totalRatingsString, avgRating]\n",
    "            wr.writerow(list_)\n",
    "\n",
    "\n",
    "\n",
    "\n",
    "    "
   ]
  },
  {
   "cell_type": "code",
   "execution_count": null,
   "id": "5e11b48d",
   "metadata": {},
   "outputs": [],
   "source": [
    "df = pd.read_csv(\"bbsr_restaurant.csv\")"
   ]
  },
  {
   "cell_type": "code",
   "execution_count": null,
   "id": "6c3adb79",
   "metadata": {},
   "outputs": [],
   "source": [
    "df.info()"
   ]
  },
  {
   "cell_type": "code",
   "execution_count": null,
   "id": "58c03148",
   "metadata": {},
   "outputs": [],
   "source": [
    "df.columns = ['name', 'address', 'area', 'locality', 'veg', 'cuisines', 'costForTwo','Discount', 'deliveryTime','totalRatingsString', 'avgRating']"
   ]
  }
 ],
 "metadata": {
  "kernelspec": {
   "display_name": "Python 3 (ipykernel)",
   "language": "python",
   "name": "python3"
  },
  "language_info": {
   "codemirror_mode": {
    "name": "ipython",
    "version": 3
   },
   "file_extension": ".py",
   "mimetype": "text/x-python",
   "name": "python",
   "nbconvert_exporter": "python",
   "pygments_lexer": "ipython3",
   "version": "3.9.12"
  }
 },
 "nbformat": 4,
 "nbformat_minor": 5
}
